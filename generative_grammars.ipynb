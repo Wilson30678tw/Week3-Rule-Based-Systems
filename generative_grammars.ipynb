{
  "cells": [
    {
      "cell_type": "markdown",
      "metadata": {
        "id": "r5rNTEuxWMPV"
      },
      "source": [
        "<a href=\"https://colab.research.google.com/github/IAT-ComputationalCreativity-Spring2025/Week3-Rule-Based-Systems/blob/main/generative_grammars.ipynb\" target=\"_parent\"><img src=\"https://colab.research.google.com/assets/colab-badge.svg\" alt=\"Open In Colab\"/></a>"
      ]
    },
    {
      "cell_type": "markdown",
      "metadata": {
        "id": "JaXKMF4UWMPZ"
      },
      "source": [
        "# Generative Grammars Lab Exercise\n",
        "\n",
        "This notebook introduces context-free grammars and their implementation in Python\n",
        "for generating natural language sentences."
      ]
    },
    {
      "cell_type": "markdown",
      "metadata": {
        "id": "jsm73hXHWMPa"
      },
      "source": [
        "## Introduction to Generative Grammars\n",
        "\n",
        "A context-free grammar consists of:\n",
        "- **Terminal symbols**: Words that appear in the final output (e.g., \"cat\", \"dog\")\n",
        "- **Non-terminal symbols**: Placeholders that get replaced by other symbols (e.g., NP, VP)\n",
        "- **Production rules**: Rules that define how non-terminals can be replaced\n",
        "\n",
        "For example:\n",
        "- S → NP VP (A sentence consists of a noun phrase followed by a verb phrase)\n",
        "- NP → Det N (A noun phrase consists of a determiner followed by a noun)\n",
        "- VP → V (A verb phrase can be just a verb)"
      ]
    },
    {
      "cell_type": "code",
      "execution_count": 11,
      "metadata": {
        "id": "aQi_77uFWMPa"
      },
      "outputs": [],
      "source": [
        "import random\n",
        "\n",
        "# Define our basic grammar\n",
        "basic_grammar = {\n",
        "    'S': [['NP', 'VP']],\n",
        "    'NP': [['Det', 'N'], ['Det', 'Adj', 'N']],\n",
        "    'VP': [['V', 'NP'], ['V']],\n",
        "    'Det': ['the', 'a', 'my'],\n",
        "    'N': ['cat', 'dog', 'robot', 'programmer'],\n",
        "    'V': ['sleeps', 'jumps', 'codes', 'runs'],\n",
        "    'Adj': ['quick', 'lazy', 'clever', 'brave']\n",
        "}\n",
        "\n",
        "def generate(symbol, grammar):\n",
        "    \"\"\"\n",
        "    Recursively generate a string from the grammar starting with the given symbol.\n",
        "\n",
        "    Args:\n",
        "        symbol: The symbol to start generating from\n",
        "\n",
        "    Returns:\n",
        "        A string generated from the grammar rules\n",
        "    \"\"\"\n",
        "    if isinstance(symbol, str) and symbol in grammar:\n",
        "        production = random.choice(grammar[symbol])\n",
        "        if isinstance(production, list):\n",
        "            return ' '.join(generate(sym, grammar) for sym in production)\n",
        "        return production\n",
        "    return symbol"
      ]
    },
    {
      "cell_type": "markdown",
      "metadata": {
        "id": "M-3q6-Q1WMPb"
      },
      "source": [
        "## Basic Sentence Generation\n",
        "\n",
        "Let's generate some basic sentences using our grammar:"
      ]
    },
    {
      "cell_type": "code",
      "execution_count": 12,
      "metadata": {
        "id": "cUMKFswMWMPb",
        "outputId": "c2173cac-30f4-40e6-aabe-6a26458be4c6",
        "colab": {
          "base_uri": "https://localhost:8080/"
        }
      },
      "outputs": [
        {
          "output_type": "stream",
          "name": "stdout",
          "text": [
            "Generated sentences:\n",
            "\n",
            "1. a robot jumps\n",
            "2. the robot jumps\n",
            "3. the lazy robot jumps\n",
            "4. a clever dog runs\n",
            "5. a brave cat jumps\n"
          ]
        }
      ],
      "source": [
        "print(\"Generated sentences:\\n\")\n",
        "for i in range(5):\n",
        "    print(f\"{i+1}. {generate('S', basic_grammar)}\")"
      ]
    },
    {
      "cell_type": "markdown",
      "metadata": {
        "id": "UGzDy7zKWMPc"
      },
      "source": [
        "## Exercise 1: Expanding the Grammar\n",
        "\n",
        "Now it's your turn! Modify the grammar to include:\n",
        "- More nouns\n",
        "- More adjectives\n",
        "- More verbs\n",
        "\n",
        "Try adding these categories:\n"
      ]
    },
    {
      "cell_type": "code",
      "execution_count": 9,
      "metadata": {
        "id": "UXMOPfq7WMPc"
      },
      "outputs": [],
      "source": [
        "# Create an expanded grammar\n",
        "expanded_grammar = basic_grammar.copy()  # Start with our original grammar\n",
        "\n",
        "# Add more words to existing categories\n",
        "# i.e. expanded_grammar['N'].extend(['apple', 'orange'])\n",
        "expanded_grammar['N'].extend(['police', 'programmer'])\n",
        "expanded_grammar['V'].extend(['jog', 'dump'])\n",
        "expanded_grammar['Adj'].extend(['pretty', 'clever'])\n",
        "expanded_grammar['Det'].extend(['a', 'my'])"
      ]
    },
    {
      "cell_type": "code",
      "execution_count": 4,
      "metadata": {
        "id": "s1Pz4zqnWMPc",
        "outputId": "1a0d504e-dc4a-4f57-a39f-5eca722422d8",
        "colab": {
          "base_uri": "https://localhost:8080/"
        }
      },
      "outputs": [
        {
          "output_type": "stream",
          "name": "stdout",
          "text": [
            "Generated sentences with expanded vocabulary:\n",
            "\n",
            "1. my robot jumps\n",
            "2. a programmer dump my clever police\n",
            "3. a robot sleeps\n",
            "4. a lazy cat runs\n",
            "5. a police jog\n"
          ]
        }
      ],
      "source": [
        "# Try the expanded grammar\n",
        "print(\"Generated sentences with expanded vocabulary:\\n\")\n",
        "for i in range(5):\n",
        "    print(f\"{i+1}. {generate('S', expanded_grammar)}\")"
      ]
    },
    {
      "cell_type": "markdown",
      "metadata": {
        "id": "nLIkYrMIWMPc"
      },
      "source": [
        "## Exercise 2: Adding Questions\n",
        "\n",
        "Let's modify the grammar to generate questions. We'll need:\n",
        "- Question words (who, what, where, etc.)\n",
        "- New production rules for question structure\n",
        "- Appropriate verb forms"
      ]
    },
    {
      "cell_type": "code",
      "execution_count": 17,
      "metadata": {
        "id": "Xsay2yi3WMPd"
      },
      "outputs": [],
      "source": [
        "# Create a grammar with questions\n",
        "question_grammar = expanded_grammar.copy()\n",
        "\n",
        "# Question-related rules\n",
        "question_grammar['S'].append(['Q'])  # Add question as possible sentence type\n",
        "# Create some question structures and words here\n",
        "question_grammar['Q'] = [['QW','VP'], ['QW', 'NP', 'VP']]  # Question structures\n",
        "question_grammar['QW'] = ['who', 'where','what', 'which','how']  # Question words"
      ]
    },
    {
      "cell_type": "code",
      "execution_count": 18,
      "metadata": {
        "id": "AXmpTcg_WMPd",
        "outputId": "b602cffc-93e8-4424-8607-81590662e37b",
        "colab": {
          "base_uri": "https://localhost:8080/"
        }
      },
      "outputs": [
        {
          "output_type": "stream",
          "name": "stdout",
          "text": [
            "Generated questions:\n",
            "\n",
            "1. how my police jog the brave robot?\n",
            "2. who a lazy programmer jog a quick dog?\n",
            "3. what a police jumps the programmer?\n",
            "4. what codes?\n",
            "5. which dump the programmer?\n"
          ]
        }
      ],
      "source": [
        "print(\"Generated questions:\\n\")\n",
        "for i in range(5):\n",
        "    print(f\"{i+1}. {generate('Q', question_grammar)}?\")"
      ]
    },
    {
      "cell_type": "markdown",
      "metadata": {
        "id": "nKAvtBRjWMPd"
      },
      "source": [
        "## Challenge: Poetry Generation\n",
        "\n",
        "Create a grammar that generates simple poetry. Consider:\n",
        "- Line structures\n",
        "- Rhyming words\n",
        "- Poetic phrases"
      ]
    },
    {
      "cell_type": "code",
      "execution_count": null,
      "metadata": {
        "id": "kOvNYhhwWMPd"
      },
      "outputs": [],
      "source": [
        "# Define a poetry-specific grammar\n",
        "poetry_grammar = {\n",
        "    'POEM': [],  # Four-line poem\n",
        "    'LINE': [],  # Two phrases per line\n",
        "    'PHRASE': [],  # Phrase structure\n",
        "    'ADJ': ['silent', 'gentle', 'misty', 'golden', 'dreamy', 'soft'],\n",
        "    'N': ['moon', 'wind', 'river', 'mountain', 'dream', 'sky'],\n",
        "    'V': ['whispers', 'dances', 'flows', 'glides', 'sings', 'sleeps'],\n",
        "    'ADV': ['slowly', 'sweetly', 'gently', 'quietly', 'peacefully']\n",
        "}\n",
        "\n",
        "def generate_poem(symbol='POEM'):\n",
        "    \"\"\"\n",
        "    Generate a poem using our poetry grammar\n",
        "    \"\"\"\n",
        "    if isinstance(symbol, str) and symbol in poetry_grammar:\n",
        "        production = random.choice(poetry_grammar[symbol])\n",
        "        if isinstance(production, list):\n",
        "            result = [generate_poem(sym) for sym in production]\n",
        "            if symbol == 'LINE':\n",
        "                return ' '.join(result) + '\\n'\n",
        "            return ' '.join(result)\n",
        "        return production\n",
        "\n",
        "    return symbol + ' '"
      ]
    },
    {
      "cell_type": "code",
      "execution_count": null,
      "metadata": {
        "id": "rCfGKsa-WMPd"
      },
      "outputs": [],
      "source": [
        "print(\"Generated poem:\\n\")\n",
        "print(generate_poem())"
      ]
    },
    {
      "cell_type": "markdown",
      "metadata": {
        "id": "QIkEkcDRWMPd"
      },
      "source": [
        "## Exercises for Practice\n",
        "\n",
        "1. Try adding different types of sentence structures to the basic grammar\n",
        "2. Create themed vocabularies (e.g., science fiction, fantasy, nature)\n",
        "3. Modify the poetry generator to create different verse structures\n",
        "4. Add rhyming capabilities to the poetry generator\n",
        "5. Implement a grammar for generating specific types of text (e.g., news headlines, weather reports)\n",
        "\n",
        "Remember: The beauty of generative grammars lies in their ability to create infinite variations from a finite set of rules!"
      ]
    }
  ],
  "metadata": {
    "kernelspec": {
      "display_name": "Python 3",
      "name": "python3"
    },
    "language_info": {
      "codemirror_mode": {
        "name": "ipython",
        "version": 3
      },
      "file_extension": ".py",
      "mimetype": "text/x-python",
      "name": "python",
      "nbconvert_exporter": "python",
      "pygments_lexer": "ipython3",
      "version": "3.9.21"
    },
    "colab": {
      "provenance": [],
      "gpuType": "T4"
    },
    "accelerator": "GPU"
  },
  "nbformat": 4,
  "nbformat_minor": 0
}